{
 "cells": [
  {
   "cell_type": "code",
   "execution_count": 210,
   "metadata": {
    "collapsed": true
   },
   "outputs": [],
   "source": [
    "import datetime\n",
    "import numpy as np"
   ]
  },
  {
   "cell_type": "code",
   "execution_count": 211,
   "metadata": {
    "collapsed": true
   },
   "outputs": [],
   "source": [
    "def swap(arr, first, last):\n",
    "    temp = arr[first]\n",
    "    arr[first] = arr[last]\n",
    "    arr[last] = temp\n",
    "\n",
    "def time_print(fun, time_info):\n",
    "    print('{} Execution took {} seconds.'.format(fun.__name__, time_info))\n"
   ]
  },
  {
   "cell_type": "markdown",
   "metadata": {},
   "source": [
    "### Bubble Sort"
   ]
  },
  {
   "cell_type": "code",
   "execution_count": 212,
   "metadata": {
    "collapsed": true
   },
   "outputs": [],
   "source": [
    "def bubbleSort(arr, n):\n",
    "    for i in range(n - 1):\n",
    "        for j in range(n - 1 - i):\n",
    "            if (arr[j] > arr[j + 1]):\n",
    "                swap(arr, j, j + 1)\n",
    "                print(\"Swapping \",arr)"
   ]
  },
  {
   "cell_type": "markdown",
   "metadata": {},
   "source": [
    "### Merge Sort"
   ]
  },
  {
   "cell_type": "code",
   "execution_count": 213,
   "metadata": {
    "collapsed": true
   },
   "outputs": [],
   "source": [
    "def mergeSort(arr, n):\n",
    "    print(\"Splitting \",arr)\n",
    "    if (n < 2):\n",
    "        return\n",
    "    mid = n // 2\n",
    "    arr_one = arr[:mid]\n",
    "    arr_two = arr[mid:]\n",
    "\n",
    "    mergeSort(arr_one, len(arr_one))\n",
    "    mergeSort(arr_two, len(arr_two))\n",
    "    merge(arr, arr_one, arr_two)\n",
    "\n",
    "def merge(arr, arr_one, arr_two):\n",
    "    i, j, k = 0, 0, 0\n",
    "    while (i < len(arr_one) and j < len(arr_two)):\n",
    "        if (arr_one[i] < arr_two[j]):\n",
    "            arr[k] = arr_one[i]\n",
    "            i += 1\n",
    "        else:\n",
    "            arr[k] = arr_two[j]\n",
    "            j += 1\n",
    "        k += 1\n",
    "    while (i < len(arr_one)):\n",
    "        arr[k] = arr_one[i]\n",
    "        i += 1\n",
    "        k += 1\n",
    "    while (j < len(arr_two)):\n",
    "        arr[k] = arr_two[j]\n",
    "        j += 1\n",
    "        k += 1\n",
    "    print(\"Merging \",arr)"
   ]
  },
  {
   "cell_type": "markdown",
   "metadata": {},
   "source": [
    "### Insertion Sort"
   ]
  },
  {
   "cell_type": "code",
   "execution_count": 214,
   "metadata": {
    "collapsed": true
   },
   "outputs": [],
   "source": [
    "def insertionSort(arr, n):\n",
    "    # Traverse through 1 to len(arr)\n",
    "    for i in range(0, n):\n",
    "        cursor = arr[i]\n",
    "        # move elements of arr[0....i-1] (left-side), that are greater than cursor, to one position ahead of their current position\n",
    "        cursor_pointer = i\n",
    "        while (cursor_pointer > 0 and cursor < arr[cursor_pointer - 1]):\n",
    "            arr[cursor_pointer] = arr[cursor_pointer - 1]\n",
    "            cursor_pointer -= 1\n",
    "        # move current cursor to its correct position\n",
    "        arr[cursor_pointer] = cursor\n",
    "        print(\"Inserting: \", arr)\n"
   ]
  },
  {
   "cell_type": "markdown",
   "metadata": {},
   "source": [
    "### Selection Sort"
   ]
  },
  {
   "cell_type": "code",
   "execution_count": 215,
   "metadata": {
    "collapsed": false
   },
   "outputs": [],
   "source": [
    "def selectionSort(arr, n):\n",
    "    for i in range(n):\n",
    "        # Assume min is the first element\n",
    "        min = i\n",
    "        # Check if there is other lower than current min\n",
    "        for j in range(i + 1, n - 1):\n",
    "            if (arr[min] > arr[j]):\n",
    "                # update min\n",
    "                min = j\n",
    "        print(\"Swapping: \", arr)\n",
    "        swap(arr, min, i)"
   ]
  },
  {
   "cell_type": "markdown",
   "metadata": {},
   "source": [
    "### Quick Sort"
   ]
  },
  {
   "cell_type": "code",
   "execution_count": 242,
   "metadata": {
    "collapsed": true
   },
   "outputs": [],
   "source": [
    "def quickSortList(arr):\n",
    "    print(\"Sorting: \", arr)\n",
    "    if (len(arr) <= 1):\n",
    "        return arr\n",
    "    else:\n",
    "        pivot = arr[0]\n",
    "        left_part, right_part = [], []\n",
    "        for x in arr[1:]:\n",
    "            if (x <= pivot):\n",
    "                left_part.append(x)\n",
    "            else:\n",
    "                right_part.append(x)\n",
    "        return quickSortList(left_part) + [pivot] + quickSortList(right_part)\n",
    "\n",
    "def quickSortArray(arr, start, end):\n",
    "    print(\"Sorting: \", arr)\n",
    "    if (start >= end):\n",
    "        return\n",
    "    pivot_pointer = partitionCollection(arr, start, end)\n",
    "    # sort the left side\n",
    "    quickSortArray(arr, start, pivot_pointer - 1)\n",
    "    # sor the right side\n",
    "    quickSortArray(arr, pivot_pointer + 1, end)\n",
    "    \n",
    "def partitionCollection(arr, start, end):\n",
    "    pivot = arr[end]\n",
    "    # index of the smaller element\n",
    "    i = start - 1\n",
    "    for j in range(start, end):\n",
    "        if (arr[j] <= pivot):\n",
    "            # increment index of smaller element\n",
    "            i += 1\n",
    "            # move element < pivot to the left\n",
    "            swap(arr, j, i)\n",
    "    # move pivot to correct position\n",
    "    swap(arr, end, i + 1)\n",
    "    return i + 1"
   ]
  },
  {
   "cell_type": "markdown",
   "metadata": {},
   "source": [
    "## Comparison of Sorting Algorithms"
   ]
  },
  {
   "cell_type": "markdown",
   "metadata": {},
   "source": [
    "#### Generate a random list of Integers"
   ]
  },
  {
   "cell_type": "code",
   "execution_count": 243,
   "metadata": {
    "collapsed": false
   },
   "outputs": [
    {
     "name": "stdout",
     "output_type": "stream",
     "text": [
      "[8063 7287 3193 6487 7097 2712 8749 5424 3876   20]\n"
     ]
    }
   ],
   "source": [
    "arrRandom = np.random.randint(0, 10000, 10)\n",
    "print(arrRandom)"
   ]
  },
  {
   "cell_type": "markdown",
   "metadata": {},
   "source": [
    "#### Run Bubble Sort"
   ]
  },
  {
   "cell_type": "code",
   "execution_count": 244,
   "metadata": {
    "collapsed": false
   },
   "outputs": [
    {
     "name": "stdout",
     "output_type": "stream",
     "text": [
      "********Bubble Sort**********\n",
      "Swapping  [7287, 8063, 3193, 6487, 7097, 2712, 8749, 5424, 3876, 20]\n",
      "Swapping  [7287, 3193, 8063, 6487, 7097, 2712, 8749, 5424, 3876, 20]\n",
      "Swapping  [7287, 3193, 6487, 8063, 7097, 2712, 8749, 5424, 3876, 20]\n",
      "Swapping  [7287, 3193, 6487, 7097, 8063, 2712, 8749, 5424, 3876, 20]\n",
      "Swapping  [7287, 3193, 6487, 7097, 2712, 8063, 8749, 5424, 3876, 20]\n",
      "Swapping  [7287, 3193, 6487, 7097, 2712, 8063, 5424, 8749, 3876, 20]\n",
      "Swapping  [7287, 3193, 6487, 7097, 2712, 8063, 5424, 3876, 8749, 20]\n",
      "Swapping  [7287, 3193, 6487, 7097, 2712, 8063, 5424, 3876, 20, 8749]\n",
      "Swapping  [3193, 7287, 6487, 7097, 2712, 8063, 5424, 3876, 20, 8749]\n",
      "Swapping  [3193, 6487, 7287, 7097, 2712, 8063, 5424, 3876, 20, 8749]\n",
      "Swapping  [3193, 6487, 7097, 7287, 2712, 8063, 5424, 3876, 20, 8749]\n",
      "Swapping  [3193, 6487, 7097, 2712, 7287, 8063, 5424, 3876, 20, 8749]\n",
      "Swapping  [3193, 6487, 7097, 2712, 7287, 5424, 8063, 3876, 20, 8749]\n",
      "Swapping  [3193, 6487, 7097, 2712, 7287, 5424, 3876, 8063, 20, 8749]\n",
      "Swapping  [3193, 6487, 7097, 2712, 7287, 5424, 3876, 20, 8063, 8749]\n",
      "Swapping  [3193, 6487, 2712, 7097, 7287, 5424, 3876, 20, 8063, 8749]\n",
      "Swapping  [3193, 6487, 2712, 7097, 5424, 7287, 3876, 20, 8063, 8749]\n",
      "Swapping  [3193, 6487, 2712, 7097, 5424, 3876, 7287, 20, 8063, 8749]\n",
      "Swapping  [3193, 6487, 2712, 7097, 5424, 3876, 20, 7287, 8063, 8749]\n",
      "Swapping  [3193, 2712, 6487, 7097, 5424, 3876, 20, 7287, 8063, 8749]\n",
      "Swapping  [3193, 2712, 6487, 5424, 7097, 3876, 20, 7287, 8063, 8749]\n",
      "Swapping  [3193, 2712, 6487, 5424, 3876, 7097, 20, 7287, 8063, 8749]\n",
      "Swapping  [3193, 2712, 6487, 5424, 3876, 20, 7097, 7287, 8063, 8749]\n",
      "Swapping  [2712, 3193, 6487, 5424, 3876, 20, 7097, 7287, 8063, 8749]\n",
      "Swapping  [2712, 3193, 5424, 6487, 3876, 20, 7097, 7287, 8063, 8749]\n",
      "Swapping  [2712, 3193, 5424, 3876, 6487, 20, 7097, 7287, 8063, 8749]\n",
      "Swapping  [2712, 3193, 5424, 3876, 20, 6487, 7097, 7287, 8063, 8749]\n",
      "Swapping  [2712, 3193, 3876, 5424, 20, 6487, 7097, 7287, 8063, 8749]\n",
      "Swapping  [2712, 3193, 3876, 20, 5424, 6487, 7097, 7287, 8063, 8749]\n",
      "Swapping  [2712, 3193, 20, 3876, 5424, 6487, 7097, 7287, 8063, 8749]\n",
      "Swapping  [2712, 20, 3193, 3876, 5424, 6487, 7097, 7287, 8063, 8749]\n",
      "Swapping  [20, 2712, 3193, 3876, 5424, 6487, 7097, 7287, 8063, 8749]\n",
      "bubbleSort Execution took 0:00:00.000971 seconds.\n"
     ]
    }
   ],
   "source": [
    "print(\"********Bubble Sort**********\")\n",
    "arrBubble = list(arrRandom)\n",
    "now = datetime.datetime.now()\n",
    "bubbleSort(arrBubble, len(arrBubble))\n",
    "time_print(bubbleSort, datetime.datetime.now() - now)"
   ]
  },
  {
   "cell_type": "markdown",
   "metadata": {},
   "source": [
    "#### Run Merge Sort"
   ]
  },
  {
   "cell_type": "code",
   "execution_count": 245,
   "metadata": {
    "collapsed": false
   },
   "outputs": [
    {
     "name": "stdout",
     "output_type": "stream",
     "text": [
      "********Merge Sort**********\n",
      "Splitting  [8063, 7287, 3193, 6487, 7097, 2712, 8749, 5424, 3876, 20]\n",
      "Splitting  [8063, 7287, 3193, 6487, 7097]\n",
      "Splitting  [8063, 7287]\n",
      "Splitting  [8063]\n",
      "Splitting  [7287]\n",
      "Merging  [7287, 8063]\n",
      "Splitting  [3193, 6487, 7097]\n",
      "Splitting  [3193]\n",
      "Splitting  [6487, 7097]\n",
      "Splitting  [6487]\n",
      "Splitting  [7097]\n",
      "Merging  [6487, 7097]\n",
      "Merging  [3193, 6487, 7097]\n",
      "Merging  [3193, 6487, 7097, 7287, 8063]\n",
      "Splitting  [2712, 8749, 5424, 3876, 20]\n",
      "Splitting  [2712, 8749]\n",
      "Splitting  [2712]\n",
      "Splitting  [8749]\n",
      "Merging  [2712, 8749]\n",
      "Splitting  [5424, 3876, 20]\n",
      "Splitting  [5424]\n",
      "Splitting  [3876, 20]\n",
      "Splitting  [3876]\n",
      "Splitting  [20]\n",
      "Merging  [20, 3876]\n",
      "Merging  [20, 3876, 5424]\n",
      "Merging  [20, 2712, 3876, 5424, 8749]\n",
      "Merging  [20, 2712, 3193, 3876, 5424, 6487, 7097, 7287, 8063, 8749]\n",
      "mergeSort Execution took 0:00:00.001003 seconds.\n"
     ]
    }
   ],
   "source": [
    "print(\"********Merge Sort**********\")\n",
    "arrMerge = list(arrRandom)\n",
    "now = datetime.datetime.now()\n",
    "mergeSort(arrMerge, len(arrMerge))\n",
    "time_print(mergeSort, datetime.datetime.now() - now)"
   ]
  },
  {
   "cell_type": "markdown",
   "metadata": {},
   "source": [
    "#### Run Selection Sort"
   ]
  },
  {
   "cell_type": "code",
   "execution_count": 246,
   "metadata": {
    "collapsed": false
   },
   "outputs": [
    {
     "name": "stdout",
     "output_type": "stream",
     "text": [
      "********Selection Sort**********\n",
      "Swapping:  [8063, 7287, 3193, 6487, 7097, 2712, 8749, 5424, 3876, 20]\n",
      "Swapping:  [2712, 7287, 3193, 6487, 7097, 8063, 8749, 5424, 3876, 20]\n",
      "Swapping:  [2712, 3193, 7287, 6487, 7097, 8063, 8749, 5424, 3876, 20]\n",
      "Swapping:  [2712, 3193, 3876, 6487, 7097, 8063, 8749, 5424, 7287, 20]\n",
      "Swapping:  [2712, 3193, 3876, 5424, 7097, 8063, 8749, 6487, 7287, 20]\n",
      "Swapping:  [2712, 3193, 3876, 5424, 6487, 8063, 8749, 7097, 7287, 20]\n",
      "Swapping:  [2712, 3193, 3876, 5424, 6487, 7097, 8749, 8063, 7287, 20]\n",
      "Swapping:  [2712, 3193, 3876, 5424, 6487, 7097, 7287, 8063, 8749, 20]\n",
      "Swapping:  [2712, 3193, 3876, 5424, 6487, 7097, 7287, 8063, 8749, 20]\n",
      "Swapping:  [2712, 3193, 3876, 5424, 6487, 7097, 7287, 8063, 8749, 20]\n",
      "selectionSort Execution took 0:00:00.001036 seconds.\n"
     ]
    }
   ],
   "source": [
    "print(\"********Selection Sort**********\")\n",
    "arrSelection = list(arrRandom)\n",
    "now = datetime.datetime.now()\n",
    "selectionSort(arrSelection, len(arrSelection))\n",
    "time_print(selectionSort, datetime.datetime.now() - now)"
   ]
  },
  {
   "cell_type": "markdown",
   "metadata": {},
   "source": [
    "#### Run Insertion Sort"
   ]
  },
  {
   "cell_type": "code",
   "execution_count": 247,
   "metadata": {
    "collapsed": false
   },
   "outputs": [
    {
     "name": "stdout",
     "output_type": "stream",
     "text": [
      "********Insertion Sort**********\n",
      "Inserting:  [8063, 7287, 3193, 6487, 7097, 2712, 8749, 5424, 3876, 20]\n",
      "Inserting:  [7287, 8063, 3193, 6487, 7097, 2712, 8749, 5424, 3876, 20]\n",
      "Inserting:  [3193, 7287, 8063, 6487, 7097, 2712, 8749, 5424, 3876, 20]\n",
      "Inserting:  [3193, 6487, 7287, 8063, 7097, 2712, 8749, 5424, 3876, 20]\n",
      "Inserting:  [3193, 6487, 7097, 7287, 8063, 2712, 8749, 5424, 3876, 20]\n",
      "Inserting:  [2712, 3193, 6487, 7097, 7287, 8063, 8749, 5424, 3876, 20]\n",
      "Inserting:  [2712, 3193, 6487, 7097, 7287, 8063, 8749, 5424, 3876, 20]\n",
      "Inserting:  [2712, 3193, 5424, 6487, 7097, 7287, 8063, 8749, 3876, 20]\n",
      "Inserting:  [2712, 3193, 3876, 5424, 6487, 7097, 7287, 8063, 8749, 20]\n",
      "Inserting:  [20, 2712, 3193, 3876, 5424, 6487, 7097, 7287, 8063, 8749]\n",
      "insertionSort Execution took 0:00:00 seconds.\n"
     ]
    }
   ],
   "source": [
    "print(\"********Insertion Sort**********\")\n",
    "arrInsertion = list(arrRandom)\n",
    "now = datetime.datetime.now()\n",
    "insertionSort(arrInsertion, len(arrInsertion))\n",
    "time_print(insertionSort, datetime.datetime.now() - now)"
   ]
  },
  {
   "cell_type": "markdown",
   "metadata": {},
   "source": [
    "#### Run Quick Sort"
   ]
  },
  {
   "cell_type": "code",
   "execution_count": 248,
   "metadata": {
    "collapsed": false
   },
   "outputs": [
    {
     "name": "stdout",
     "output_type": "stream",
     "text": [
      "********Quick Sort**********\n",
      "Sorting:  [8063, 7287, 3193, 6487, 7097, 2712, 8749, 5424, 3876, 20]\n",
      "Sorting:  [20, 7287, 3193, 6487, 7097, 2712, 8749, 5424, 3876, 8063]\n",
      "Sorting:  [20, 7287, 3193, 6487, 7097, 2712, 8749, 5424, 3876, 8063]\n",
      "Sorting:  [20, 7287, 3193, 6487, 7097, 2712, 5424, 3876, 8063, 8749]\n",
      "Sorting:  [20, 3193, 2712, 3876, 7097, 7287, 5424, 6487, 8063, 8749]\n",
      "Sorting:  [20, 2712, 3193, 3876, 7097, 7287, 5424, 6487, 8063, 8749]\n",
      "Sorting:  [20, 2712, 3193, 3876, 7097, 7287, 5424, 6487, 8063, 8749]\n",
      "Sorting:  [20, 2712, 3193, 3876, 7097, 7287, 5424, 6487, 8063, 8749]\n",
      "Sorting:  [20, 2712, 3193, 3876, 5424, 6487, 7097, 7287, 8063, 8749]\n",
      "Sorting:  [20, 2712, 3193, 3876, 5424, 6487, 7097, 7287, 8063, 8749]\n",
      "Sorting:  [20, 2712, 3193, 3876, 5424, 6487, 7097, 7287, 8063, 8749]\n",
      "Sorting:  [20, 2712, 3193, 3876, 5424, 6487, 7097, 7287, 8063, 8749]\n",
      "Sorting:  [20, 2712, 3193, 3876, 5424, 6487, 7097, 7287, 8063, 8749]\n",
      "quickSortArray Execution took 0:00:00.001003 seconds.\n"
     ]
    }
   ],
   "source": [
    "print(\"********Quick Sort**********\")\n",
    "arrQuick = list(arrRandom)\n",
    "now = datetime.datetime.now()\n",
    "quickSortArray(arrQuick, 0, len(arrQuick) - 1)\n",
    "time_print(quickSortArray, datetime.datetime.now() - now)"
   ]
  },
  {
   "cell_type": "code",
   "execution_count": 249,
   "metadata": {
    "collapsed": false
   },
   "outputs": [
    {
     "name": "stdout",
     "output_type": "stream",
     "text": [
      "********Quick Sort**********\n",
      "Sorting:  [8063, 7287, 3193, 6487, 7097, 2712, 8749, 5424, 3876, 20]\n",
      "Sorting:  [7287, 3193, 6487, 7097, 2712, 5424, 3876, 20]\n",
      "Sorting:  [3193, 6487, 7097, 2712, 5424, 3876, 20]\n",
      "Sorting:  [2712, 20]\n",
      "Sorting:  [20]\n",
      "Sorting:  []\n",
      "Sorting:  [6487, 7097, 5424, 3876]\n",
      "Sorting:  [5424, 3876]\n",
      "Sorting:  [3876]\n",
      "Sorting:  []\n",
      "Sorting:  [7097]\n",
      "Sorting:  []\n",
      "Sorting:  [8749]\n",
      "[20, 2712, 3193, 3876, 5424, 6487, 7097, 7287, 8063, 8749]\n",
      "quickSortList Execution took 0:00:00 seconds.\n"
     ]
    }
   ],
   "source": [
    "print(\"********Quick Sort**********\")\n",
    "arrQuickList = list(arrRandom)\n",
    "now = datetime.datetime.now()\n",
    "arrQuickList = quickSortList(arrQuickList)\n",
    "print(arrQuickList)\n",
    "time_print(quickSortList, datetime.datetime.now() - now)\n"
   ]
  },
  {
   "cell_type": "code",
   "execution_count": null,
   "metadata": {
    "collapsed": true
   },
   "outputs": [],
   "source": []
  },
  {
   "cell_type": "code",
   "execution_count": null,
   "metadata": {
    "collapsed": true
   },
   "outputs": [],
   "source": []
  }
 ],
 "metadata": {
  "anaconda-cloud": {},
  "kernelspec": {
   "display_name": "Python [conda root]",
   "language": "python",
   "name": "conda-root-py"
  },
  "language_info": {
   "codemirror_mode": {
    "name": "ipython",
    "version": 3
   },
   "file_extension": ".py",
   "mimetype": "text/x-python",
   "name": "python",
   "nbconvert_exporter": "python",
   "pygments_lexer": "ipython3",
   "version": "3.5.2"
  }
 },
 "nbformat": 4,
 "nbformat_minor": 1
}
