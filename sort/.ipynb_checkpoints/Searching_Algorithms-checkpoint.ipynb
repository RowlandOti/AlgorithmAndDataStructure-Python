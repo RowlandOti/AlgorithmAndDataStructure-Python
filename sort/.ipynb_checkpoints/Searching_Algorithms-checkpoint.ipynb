{
 "cells": [
  {
   "cell_type": "markdown",
   "metadata": {
    "collapsed": true
   },
   "source": [
    "### Iterative Linear Search"
   ]
  },
  {
   "cell_type": "code",
   "execution_count": 133,
   "metadata": {
    "collapsed": true
   },
   "outputs": [],
   "source": [
    "def iterative_linear_search(arr, n):\n",
    "    cursor = -1\n",
    "    for i in range(len(arr)):\n",
    "        if(arr[i] == n):\n",
    "            cursor = i\n",
    "    return cursor\n",
    "    "
   ]
  },
  {
   "cell_type": "markdown",
   "metadata": {},
   "source": [
    "### Recursive Linear Search"
   ]
  },
  {
   "cell_type": "code",
   "execution_count": 134,
   "metadata": {
    "collapsed": false
   },
   "outputs": [],
   "source": [
    "def recursive_linear_search(arr, key, cursor_index = 0):\n",
    "    if( cursor_index == len(arr)): return -1\n",
    "    return cursor_index if arr[cursor_index] == key else  recursive_linear_search(arr, key, cursor_index +1)"
   ]
  },
  {
   "cell_type": "code",
   "execution_count": 135,
   "metadata": {
    "collapsed": false
   },
   "outputs": [
    {
     "name": "stdout",
     "output_type": "stream",
     "text": [
      "[46, 81, 60, 93, 77, 39, 70, 94, 55, 76, 48, 56, 10, 44, 60, 93, 26, 90, 1, 57, 99, 91, 51, 25, 21, 58, 10, 41, 59, 94, 16, 48, 15, 18, 87, 44, 92, 78, 4, 22, 65, 95, 26, 79, 47, 55, 13, 22, 46, 49]\n",
      "\n",
      "\n",
      "List of size: 50\n"
     ]
    }
   ],
   "source": [
    "arrSearch = [46, 81, 60, 93, 77, 39, 70, 94, 55, 76, 48, 56, 10, 44, 60, 93, 26, 90,  1, 57, 99, 91, 51, 25, 21, 58, 10, 41, 59, 94, 16, 48, 15, 18, 87, 44, 92, 78,  4, 22, 65, 95, 26, 79, 47, 55, 13, 22, 46, 49]\n",
    "print(arrSearch)\n",
    "print(\"\\n\")\n",
    "print(\"List of size: {}\".format(len(arrSearch)))"
   ]
  },
  {
   "cell_type": "code",
   "execution_count": 136,
   "metadata": {
    "collapsed": false
   },
   "outputs": [
    {
     "data": {
      "text/plain": [
       "49"
      ]
     },
     "execution_count": 136,
     "metadata": {},
     "output_type": "execute_result"
    }
   ],
   "source": [
    "iterative_linear_search(arrSearch, 49)"
   ]
  },
  {
   "cell_type": "code",
   "execution_count": 137,
   "metadata": {
    "collapsed": false
   },
   "outputs": [
    {
     "data": {
      "text/plain": [
       "49"
      ]
     },
     "execution_count": 137,
     "metadata": {},
     "output_type": "execute_result"
    }
   ],
   "source": [
    "recursive_linear_search(arrSearch, 49)"
   ]
  },
  {
   "cell_type": "markdown",
   "metadata": {
    "collapsed": true
   },
   "source": [
    "### Iterative Binary Search"
   ]
  },
  {
   "cell_type": "code",
   "execution_count": 138,
   "metadata": {
    "collapsed": false
   },
   "outputs": [],
   "source": [
    "def iterative_binary_search(arr, key):\n",
    "    arr.sort()\n",
    "    low = 0\n",
    "    high = len(arr) - 1\n",
    "    \n",
    "    while(high >= low):\n",
    "        mid = (low + high)//2\n",
    "        print(\"Low: {}, Mid: {}, High: {}\".format(low, mid, high))\n",
    "        if(arr[mid] < key):\n",
    "            low = mid + 1\n",
    "        elif(arr[mid] > key):\n",
    "            high = mid - 1\n",
    "        else:\n",
    "            return mid\n",
    "    return -1\n",
    "            \n",
    "            "
   ]
  },
  {
   "cell_type": "code",
   "execution_count": 139,
   "metadata": {
    "collapsed": false
   },
   "outputs": [
    {
     "name": "stdout",
     "output_type": "stream",
     "text": [
      "Low: 0, Mid: 24, High: 49\n",
      "Low: 0, Mid: 11, High: 23\n",
      "Low: 12, Mid: 17, High: 23\n",
      "Low: 18, Mid: 20, High: 23\n",
      "Low: 21, Mid: 22, High: 23\n",
      "Low: 23, Mid: 23, High: 23\n"
     ]
    },
    {
     "data": {
      "text/plain": [
       "23"
      ]
     },
     "execution_count": 139,
     "metadata": {},
     "output_type": "execute_result"
    }
   ],
   "source": [
    "iterative_binary_search(arrSearch, 49)"
   ]
  },
  {
   "cell_type": "markdown",
   "metadata": {
    "collapsed": true
   },
   "source": [
    "### Recursive Binary Search"
   ]
  },
  {
   "cell_type": "code",
   "execution_count": 140,
   "metadata": {
    "collapsed": false
   },
   "outputs": [],
   "source": [
    "def recursive_binary_search(arr, key, low, high):\n",
    "    mid = (low + high) //2\n",
    "    print(\"Low: {}, Mid: {}, High: {}\".format(low, mid, high))\n",
    "    if(high < low):\n",
    "        return -1\n",
    "    else:\n",
    "        if(arr[mid] < key):\n",
    "            return recursive_binary_search(arr, key, mid + 1, high)\n",
    "        if(arr[mid] > key):\n",
    "            return recursive_binary_search(arr, key, low, mid - 1)\n",
    "        else:\n",
    "            return mid\n",
    "    "
   ]
  },
  {
   "cell_type": "code",
   "execution_count": 141,
   "metadata": {
    "collapsed": false
   },
   "outputs": [
    {
     "name": "stdout",
     "output_type": "stream",
     "text": [
      "Low: 0, Mid: 24, High: 49\n",
      "Low: 0, Mid: 11, High: 23\n",
      "Low: 12, Mid: 17, High: 23\n",
      "Low: 18, Mid: 20, High: 23\n",
      "Low: 21, Mid: 22, High: 23\n",
      "Low: 23, Mid: 23, High: 23\n"
     ]
    },
    {
     "data": {
      "text/plain": [
       "23"
      ]
     },
     "execution_count": 141,
     "metadata": {},
     "output_type": "execute_result"
    }
   ],
   "source": [
    "recursive_binary_search(arrSearch, 49, 0, len(arrSearch) -1)"
   ]
  },
  {
   "cell_type": "code",
   "execution_count": null,
   "metadata": {
    "collapsed": true
   },
   "outputs": [],
   "source": []
  }
 ],
 "metadata": {
  "anaconda-cloud": {},
  "kernelspec": {
   "display_name": "Python [conda root]",
   "language": "python",
   "name": "conda-root-py"
  },
  "language_info": {
   "codemirror_mode": {
    "name": "ipython",
    "version": 3
   },
   "file_extension": ".py",
   "mimetype": "text/x-python",
   "name": "python",
   "nbconvert_exporter": "python",
   "pygments_lexer": "ipython3",
   "version": "3.5.2"
  }
 },
 "nbformat": 4,
 "nbformat_minor": 1
}
