{
 "cells": [
  {
   "cell_type": "code",
   "execution_count": 251,
   "metadata": {
    "collapsed": true
   },
   "outputs": [],
   "source": [
    "import datetime\n",
    "import numpy as np"
   ]
  },
  {
   "cell_type": "code",
   "execution_count": 252,
   "metadata": {
    "collapsed": true
   },
   "outputs": [],
   "source": [
    "def swap(arr, first, last):\n",
    "    temp = arr[first]\n",
    "    arr[first] = arr[last]\n",
    "    arr[last] = temp\n",
    "\n",
    "def time_print(fun, time_info):\n",
    "    print('{} execution took {} seconds.'.format(fun.__name__, time_info))\n"
   ]
  },
  {
   "cell_type": "markdown",
   "metadata": {},
   "source": [
    "### Bubble Sort"
   ]
  },
  {
   "cell_type": "code",
   "execution_count": 253,
   "metadata": {
    "collapsed": true
   },
   "outputs": [],
   "source": [
    "def bubbleSort(arr, n):\n",
    "    for i in range(n - 1):\n",
    "        for j in range(n - 1 - i):\n",
    "            if (arr[j] > arr[j + 1]):\n",
    "                swap(arr, j, j + 1)\n",
    "                print(\"Swapping \",arr)"
   ]
  },
  {
   "cell_type": "markdown",
   "metadata": {},
   "source": [
    "### Merge Sort"
   ]
  },
  {
   "cell_type": "code",
   "execution_count": 254,
   "metadata": {
    "collapsed": true
   },
   "outputs": [],
   "source": [
    "def mergeSort(arr, n):\n",
    "    print(\"Splitting \",arr)\n",
    "    if (n < 2):\n",
    "        return\n",
    "    mid = n // 2\n",
    "    arr_one = arr[:mid]\n",
    "    arr_two = arr[mid:]\n",
    "\n",
    "    mergeSort(arr_one, len(arr_one))\n",
    "    mergeSort(arr_two, len(arr_two))\n",
    "    merge(arr, arr_one, arr_two)\n",
    "\n",
    "def merge(arr, arr_one, arr_two):\n",
    "    i, j, k = 0, 0, 0\n",
    "    while (i < len(arr_one) and j < len(arr_two)):\n",
    "        if (arr_one[i] < arr_two[j]):\n",
    "            arr[k] = arr_one[i]\n",
    "            i += 1\n",
    "        else:\n",
    "            arr[k] = arr_two[j]\n",
    "            j += 1\n",
    "        k += 1\n",
    "    while (i < len(arr_one)):\n",
    "        arr[k] = arr_one[i]\n",
    "        i += 1\n",
    "        k += 1\n",
    "    while (j < len(arr_two)):\n",
    "        arr[k] = arr_two[j]\n",
    "        j += 1\n",
    "        k += 1\n",
    "    print(\"Merging \",arr)"
   ]
  },
  {
   "cell_type": "markdown",
   "metadata": {},
   "source": [
    "### Insertion Sort"
   ]
  },
  {
   "cell_type": "code",
   "execution_count": 255,
   "metadata": {
    "collapsed": true
   },
   "outputs": [],
   "source": [
    "def insertionSort(arr, n):\n",
    "    # Traverse through 1 to len(arr)\n",
    "    for i in range(0, n):\n",
    "        cursor = arr[i]\n",
    "        # move elements of arr[0....i-1] (left-side), that are greater than cursor, to one position ahead of their current position\n",
    "        cursor_pointer = i\n",
    "        while (cursor_pointer > 0 and cursor < arr[cursor_pointer - 1]):\n",
    "            arr[cursor_pointer] = arr[cursor_pointer - 1]\n",
    "            cursor_pointer -= 1\n",
    "        # move current cursor to its correct position\n",
    "        arr[cursor_pointer] = cursor\n",
    "        print(\"Inserting: \", arr)\n"
   ]
  },
  {
   "cell_type": "markdown",
   "metadata": {},
   "source": [
    "### Selection Sort"
   ]
  },
  {
   "cell_type": "code",
   "execution_count": 256,
   "metadata": {
    "collapsed": false
   },
   "outputs": [],
   "source": [
    "def selectionSort(arr, n):\n",
    "    for i in range(n):\n",
    "        # Assume min is the first element\n",
    "        min = i\n",
    "        # Check if there is other lower than current min\n",
    "        for j in range(i + 1, n - 1):\n",
    "            if (arr[min] > arr[j]):\n",
    "                # update min\n",
    "                min = j\n",
    "        print(\"Swapping: \", arr)\n",
    "        swap(arr, min, i)"
   ]
  },
  {
   "cell_type": "markdown",
   "metadata": {},
   "source": [
    "### Quick Sort"
   ]
  },
  {
   "cell_type": "code",
   "execution_count": 257,
   "metadata": {
    "collapsed": true
   },
   "outputs": [],
   "source": [
    "def quickSortList(arr):\n",
    "    print(\"Sorting: \", arr)\n",
    "    if (len(arr) <= 1):\n",
    "        return arr\n",
    "    else:\n",
    "        pivot = arr[0]\n",
    "        left_part, right_part = [], []\n",
    "        for x in arr[1:]:\n",
    "            if (x <= pivot):\n",
    "                left_part.append(x)\n",
    "            else:\n",
    "                right_part.append(x)\n",
    "        return quickSortList(left_part) + [pivot] + quickSortList(right_part)\n",
    "\n",
    "def quickSortArray(arr, start, end):\n",
    "    print(\"Sorting: \", arr)\n",
    "    if (start >= end):\n",
    "        return\n",
    "    pivot_pointer = partitionCollection(arr, start, end)\n",
    "    # sort the left side\n",
    "    quickSortArray(arr, start, pivot_pointer - 1)\n",
    "    # sor the right side\n",
    "    quickSortArray(arr, pivot_pointer + 1, end)\n",
    "    \n",
    "def partitionCollection(arr, start, end):\n",
    "    pivot = arr[end]\n",
    "    # index of the smaller element\n",
    "    i = start - 1\n",
    "    for j in range(start, end):\n",
    "        if (arr[j] <= pivot):\n",
    "            # increment index of smaller element\n",
    "            i += 1\n",
    "            # move element < pivot to the left\n",
    "            swap(arr, j, i)\n",
    "    # move pivot to correct position\n",
    "    swap(arr, end, i + 1)\n",
    "    return i + 1"
   ]
  },
  {
   "cell_type": "markdown",
   "metadata": {},
   "source": [
    "## Comparison of Sorting Algorithms"
   ]
  },
  {
   "cell_type": "markdown",
   "metadata": {},
   "source": [
    "#### Generate a random list of Integers"
   ]
  },
  {
   "cell_type": "code",
   "execution_count": 260,
   "metadata": {
    "collapsed": false
   },
   "outputs": [
    {
     "name": "stdout",
     "output_type": "stream",
     "text": [
      "[46 81 60 93 77 39 70 94 55 76 48 56 10 44 60 93 26 90  1 57 99 91 51 25 21\n",
      " 58 10 41 59 94 16 48 15 18 87 44 92 78  4 22 65 95 26 79 47 55 13 22 46 49\n",
      "  7 67 47 14 94 90 94 50 51 18 86 95 15 64 97 22 18 10 39  1 52 72 90 20 98\n",
      " 19 26 45 19 57 55 36 13 71  3 89 73 56 41 35 32 25 56  5 32 84 66 69 49 69]\n"
     ]
    }
   ],
   "source": [
    "arrRandom = np.random.randint(0, 1000, 100)\n",
    "print(arrRandom)"
   ]
  },
  {
   "cell_type": "markdown",
   "metadata": {},
   "source": [
    "#### Run Bubble Sort"
   ]
  },
  {
   "cell_type": "code",
   "execution_count": 185,
   "metadata": {
    "collapsed": false
   },
   "outputs": [
    {
     "name": "stdout",
     "output_type": "stream",
     "text": [
      "********Bubble Sort**********\n",
      "Swapping  [1511, 1921, 4692, 1047, 2493, 4554, 4754, 9042, 2299, 8232]\n",
      "Swapping  [1511, 1921, 1047, 4692, 2493, 4554, 4754, 9042, 2299, 8232]\n",
      "Swapping  [1511, 1921, 1047, 2493, 4692, 4554, 4754, 9042, 2299, 8232]\n",
      "Swapping  [1511, 1921, 1047, 2493, 4554, 4692, 4754, 9042, 2299, 8232]\n",
      "Swapping  [1511, 1921, 1047, 2493, 4554, 4692, 4754, 2299, 9042, 8232]\n",
      "Swapping  [1511, 1921, 1047, 2493, 4554, 4692, 4754, 2299, 8232, 9042]\n",
      "Swapping  [1511, 1047, 1921, 2493, 4554, 4692, 4754, 2299, 8232, 9042]\n",
      "Swapping  [1511, 1047, 1921, 2493, 4554, 4692, 2299, 4754, 8232, 9042]\n",
      "Swapping  [1047, 1511, 1921, 2493, 4554, 4692, 2299, 4754, 8232, 9042]\n",
      "Swapping  [1047, 1511, 1921, 2493, 4554, 2299, 4692, 4754, 8232, 9042]\n",
      "Swapping  [1047, 1511, 1921, 2493, 2299, 4554, 4692, 4754, 8232, 9042]\n",
      "Swapping  [1047, 1511, 1921, 2299, 2493, 4554, 4692, 4754, 8232, 9042]\n",
      "bubbleSort execution took 0:00:00 seconds.\n"
     ]
    }
   ],
   "source": [
    "print(\"********Bubble Sort**********\")\n",
    "arrBubble = list(arrRandom)\n",
    "now = datetime.datetime.now()\n",
    "bubbleSort(arrBubble, len(arrBubble))\n",
    "time_print(bubbleSort, datetime.datetime.now() - now)"
   ]
  },
  {
   "cell_type": "markdown",
   "metadata": {},
   "source": [
    "#### Run Merge Sort"
   ]
  },
  {
   "cell_type": "code",
   "execution_count": 186,
   "metadata": {
    "collapsed": false
   },
   "outputs": [
    {
     "name": "stdout",
     "output_type": "stream",
     "text": [
      "********Merge Sort**********\n",
      "Splitting  [1921, 1511, 4692, 1047, 2493, 4554, 4754, 9042, 2299, 8232]\n",
      "Splitting  [1921, 1511, 4692, 1047, 2493]\n",
      "Splitting  [1921, 1511]\n",
      "Splitting  [1921]\n",
      "Splitting  [1511]\n",
      "Merging  [1511, 1921]\n",
      "Splitting  [4692, 1047, 2493]\n",
      "Splitting  [4692]\n",
      "Splitting  [1047, 2493]\n",
      "Splitting  [1047]\n",
      "Splitting  [2493]\n",
      "Merging  [1047, 2493]\n",
      "Merging  [1047, 2493, 4692]\n",
      "Merging  [1047, 1511, 1921, 2493, 4692]\n",
      "Splitting  [4554, 4754, 9042, 2299, 8232]\n",
      "Splitting  [4554, 4754]\n",
      "Splitting  [4554]\n",
      "Splitting  [4754]\n",
      "Merging  [4554, 4754]\n",
      "Splitting  [9042, 2299, 8232]\n",
      "Splitting  [9042]\n",
      "Splitting  [2299, 8232]\n",
      "Splitting  [2299]\n",
      "Splitting  [8232]\n",
      "Merging  [2299, 8232]\n",
      "Merging  [2299, 8232, 9042]\n",
      "Merging  [2299, 4554, 4754, 8232, 9042]\n",
      "Merging  [1047, 1511, 1921, 2299, 2493, 4554, 4692, 4754, 8232, 9042]\n",
      "mergeSort execution took 0:00:00 seconds.\n"
     ]
    }
   ],
   "source": [
    "print(\"********Merge Sort**********\")\n",
    "arrMerge = list(arrRandom)\n",
    "now = datetime.datetime.now()\n",
    "mergeSort(arrMerge, len(arrMerge))\n",
    "time_print(mergeSort, datetime.datetime.now() - now)"
   ]
  },
  {
   "cell_type": "markdown",
   "metadata": {},
   "source": [
    "#### Run Selection Sort"
   ]
  },
  {
   "cell_type": "code",
   "execution_count": 187,
   "metadata": {
    "collapsed": false
   },
   "outputs": [
    {
     "name": "stdout",
     "output_type": "stream",
     "text": [
      "********Selection Sort**********\n",
      "Swapping:  [1921, 1511, 4692, 1047, 2493, 4554, 4754, 9042, 2299, 8232]\n",
      "Swapping:  [1047, 1511, 4692, 1921, 2493, 4554, 4754, 9042, 2299, 8232]\n",
      "Swapping:  [1047, 1511, 4692, 1921, 2493, 4554, 4754, 9042, 2299, 8232]\n",
      "Swapping:  [1047, 1511, 1921, 4692, 2493, 4554, 4754, 9042, 2299, 8232]\n",
      "Swapping:  [1047, 1511, 1921, 2299, 2493, 4554, 4754, 9042, 4692, 8232]\n",
      "Swapping:  [1047, 1511, 1921, 2299, 2493, 4554, 4754, 9042, 4692, 8232]\n",
      "Swapping:  [1047, 1511, 1921, 2299, 2493, 4554, 4754, 9042, 4692, 8232]\n",
      "Swapping:  [1047, 1511, 1921, 2299, 2493, 4554, 4692, 9042, 4754, 8232]\n",
      "Swapping:  [1047, 1511, 1921, 2299, 2493, 4554, 4692, 4754, 9042, 8232]\n",
      "Swapping:  [1047, 1511, 1921, 2299, 2493, 4554, 4692, 4754, 9042, 8232]\n",
      "selectionSort execution took 0:00:00.000501 seconds.\n"
     ]
    }
   ],
   "source": [
    "print(\"********Selection Sort**********\")\n",
    "arrSelection = list(arrRandom)\n",
    "now = datetime.datetime.now()\n",
    "selectionSort(arrSelection, len(arrSelection))\n",
    "time_print(selectionSort, datetime.datetime.now() - now)"
   ]
  },
  {
   "cell_type": "markdown",
   "metadata": {},
   "source": [
    "#### Run Insertion Sort"
   ]
  },
  {
   "cell_type": "code",
   "execution_count": 188,
   "metadata": {
    "collapsed": false
   },
   "outputs": [
    {
     "name": "stdout",
     "output_type": "stream",
     "text": [
      "********Insertion Sort**********\n",
      "Inserting:  [1921, 1511, 4692, 1047, 2493, 4554, 4754, 9042, 2299, 8232]\n",
      "Inserting:  [1511, 1921, 4692, 1047, 2493, 4554, 4754, 9042, 2299, 8232]\n",
      "Inserting:  [1511, 1921, 4692, 1047, 2493, 4554, 4754, 9042, 2299, 8232]\n",
      "Inserting:  [1047, 1511, 1921, 4692, 2493, 4554, 4754, 9042, 2299, 8232]\n",
      "Inserting:  [1047, 1511, 1921, 2493, 4692, 4554, 4754, 9042, 2299, 8232]\n",
      "Inserting:  [1047, 1511, 1921, 2493, 4554, 4692, 4754, 9042, 2299, 8232]\n",
      "Inserting:  [1047, 1511, 1921, 2493, 4554, 4692, 4754, 9042, 2299, 8232]\n",
      "Inserting:  [1047, 1511, 1921, 2493, 4554, 4692, 4754, 9042, 2299, 8232]\n",
      "Inserting:  [1047, 1511, 1921, 2299, 2493, 4554, 4692, 4754, 9042, 8232]\n",
      "Inserting:  [1047, 1511, 1921, 2299, 2493, 4554, 4692, 4754, 8232, 9042]\n",
      "insertionSort execution took 0:00:00 seconds.\n"
     ]
    }
   ],
   "source": [
    "print(\"********Insertion Sort**********\")\n",
    "arrInsertion = list(arrRandom)\n",
    "now = datetime.datetime.now()\n",
    "insertionSort(arrInsertion, len(arrInsertion))\n",
    "time_print(insertionSort, datetime.datetime.now() - now)"
   ]
  },
  {
   "cell_type": "markdown",
   "metadata": {},
   "source": [
    "#### Run Quick Sort"
   ]
  },
  {
   "cell_type": "code",
   "execution_count": 189,
   "metadata": {
    "collapsed": false
   },
   "outputs": [
    {
     "name": "stdout",
     "output_type": "stream",
     "text": [
      "********Quick Sort**********\n",
      "Sorting:  [1921, 1511, 4692, 1047, 2493, 4554, 4754, 9042, 2299, 8232]\n",
      "Sorting:  [1921, 1511, 4692, 1047, 2493, 4554, 4754, 2299, 8232, 9042]\n",
      "Sorting:  [1921, 1511, 1047, 2299, 2493, 4554, 4754, 4692, 8232, 9042]\n",
      "Sorting:  [1047, 1511, 1921, 2299, 2493, 4554, 4754, 4692, 8232, 9042]\n",
      "Sorting:  [1047, 1511, 1921, 2299, 2493, 4554, 4754, 4692, 8232, 9042]\n",
      "Sorting:  [1047, 1511, 1921, 2299, 2493, 4554, 4754, 4692, 8232, 9042]\n",
      "Sorting:  [1047, 1511, 1921, 2299, 2493, 4554, 4754, 4692, 8232, 9042]\n",
      "Sorting:  [1047, 1511, 1921, 2299, 2493, 4554, 4754, 4692, 8232, 9042]\n",
      "Sorting:  [1047, 1511, 1921, 2299, 2493, 4554, 4692, 4754, 8232, 9042]\n",
      "Sorting:  [1047, 1511, 1921, 2299, 2493, 4554, 4692, 4754, 8232, 9042]\n",
      "Sorting:  [1047, 1511, 1921, 2299, 2493, 4554, 4692, 4754, 8232, 9042]\n",
      "Sorting:  [1047, 1511, 1921, 2299, 2493, 4554, 4692, 4754, 8232, 9042]\n",
      "Sorting:  [1047, 1511, 1921, 2299, 2493, 4554, 4692, 4754, 8232, 9042]\n",
      "[1047, 1511, 1921, 2299, 2493, 4554, 4692, 4754, 8232, 9042]\n",
      "quickSortArray execution took 0:00:00.000501 seconds.\n"
     ]
    }
   ],
   "source": [
    "print(\"********Quick Sort**********\")\n",
    "arrQuick = list(arrRandom)\n",
    "now = datetime.datetime.now()\n",
    "quickSortArray(arrQuick, 0, len(arrQuick) - 1)\n",
    "print(arrQuick)\n",
    "time_print(quickSortArray, datetime.datetime.now() - now)"
   ]
  },
  {
   "cell_type": "code",
   "execution_count": 190,
   "metadata": {
    "collapsed": false
   },
   "outputs": [
    {
     "name": "stdout",
     "output_type": "stream",
     "text": [
      "********Quick Sort**********\n",
      "Sorting:  [1921, 1511, 4692, 1047, 2493, 4554, 4754, 9042, 2299, 8232]\n",
      "Sorting:  [1511, 1047]\n",
      "Sorting:  [1047]\n",
      "Sorting:  []\n",
      "Sorting:  [4692, 2493, 4554, 4754, 9042, 2299, 8232]\n",
      "Sorting:  [2493, 4554, 2299]\n",
      "Sorting:  [2299]\n",
      "Sorting:  [4554]\n",
      "Sorting:  [4754, 9042, 8232]\n",
      "Sorting:  []\n",
      "Sorting:  [9042, 8232]\n",
      "Sorting:  [8232]\n",
      "Sorting:  []\n",
      "[1047, 1511, 1921, 2299, 2493, 4554, 4692, 4754, 8232, 9042]\n",
      "quickSortList execution took 0:00:00.001002 seconds.\n"
     ]
    }
   ],
   "source": [
    "print(\"********Quick Sort**********\")\n",
    "arrQuickList = list(arrRandom)\n",
    "now = datetime.datetime.now()\n",
    "arrQuickList = quickSortList(arrQuickList)\n",
    "print(arrQuickList)\n",
    "time_print(quickSortList, datetime.datetime.now() - now)\n"
   ]
  },
  {
   "cell_type": "code",
   "execution_count": null,
   "metadata": {
    "collapsed": true
   },
   "outputs": [],
   "source": []
  }
 ],
 "metadata": {
  "anaconda-cloud": {},
  "kernelspec": {
   "display_name": "Python [conda root]",
   "language": "python",
   "name": "conda-root-py"
  },
  "language_info": {
   "codemirror_mode": {
    "name": "ipython",
    "version": 3
   },
   "file_extension": ".py",
   "mimetype": "text/x-python",
   "name": "python",
   "nbconvert_exporter": "python",
   "pygments_lexer": "ipython3",
   "version": "3.5.2"
  }
 },
 "nbformat": 4,
 "nbformat_minor": 1
}
